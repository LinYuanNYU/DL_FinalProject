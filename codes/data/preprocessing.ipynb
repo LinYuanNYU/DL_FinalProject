{
 "cells": [
  {
   "cell_type": "code",
   "execution_count": 3,
   "metadata": {},
   "outputs": [
    {
     "name": "stdout",
     "output_type": "stream",
     "text": [
      "['n02085620-Chihuahua', 'n02085782-Japanese_spaniel', 'n02085936-Maltese_dog', 'n02086079-Pekinese', 'n02086240-Shih-Tzu', 'n02086646-Blenheim_spaniel', 'n02086910-papillon', 'n02087046-toy_terrier', 'n02087394-Rhodesian_ridgeback', 'n02088094-Afghan_hound', 'n02088238-basset', 'n02088364-beagle', 'n02088466-bloodhound', 'n02088632-bluetick', 'n02089078-black-and-tan_coonhound', 'n02089867-Walker_hound', 'n02089973-English_foxhound', 'n02090379-redbone', 'n02090622-borzoi', 'n02090721-Irish_wolfhound', 'n02091032-Italian_greyhound', 'n02091134-whippet', 'n02091244-Ibizan_hound', 'n02091467-Norwegian_elkhound', 'n02091635-otterhound', 'n02091831-Saluki', 'n02092002-Scottish_deerhound', 'n02092339-Weimaraner', 'n02093256-Staffordshire_bullterrier', 'n02093428-American_Staffordshire_terrier', 'n02093647-Bedlington_terrier', 'n02093754-Border_terrier', 'n02093859-Kerry_blue_terrier', 'n02093991-Irish_terrier', 'n02094114-Norfolk_terrier', 'n02094258-Norwich_terrier', 'n02094433-Yorkshire_terrier', 'n02095314-wire-haired_fox_terrier', 'n02095570-Lakeland_terrier', 'n02095889-Sealyham_terrier', 'n02096051-Airedale', 'n02096177-cairn', 'n02096294-Australian_terrier', 'n02096437-Dandie_Dinmont', 'n02096585-Boston_bull', 'n02097047-miniature_schnauzer', 'n02097130-giant_schnauzer', 'n02097209-standard_schnauzer', 'n02097298-Scotch_terrier', 'n02097474-Tibetan_terrier', 'n02097658-silky_terrier', 'n02098105-soft-coated_wheaten_terrier', 'n02098286-West_Highland_white_terrier', 'n02098413-Lhasa', 'n02099267-flat-coated_retriever', 'n02099429-curly-coated_retriever', 'n02099601-golden_retriever', 'n02099712-Labrador_retriever', 'n02099849-Chesapeake_Bay_retriever', 'n02100236-German_short-haired_pointer', 'n02100583-vizsla', 'n02100735-English_setter', 'n02100877-Irish_setter', 'n02101006-Gordon_setter', 'n02101388-Brittany_spaniel', 'n02101556-clumber', 'n02102040-English_springer', 'n02102177-Welsh_springer_spaniel', 'n02102318-cocker_spaniel', 'n02102480-Sussex_spaniel', 'n02102973-Irish_water_spaniel', 'n02104029-kuvasz', 'n02104365-schipperke', 'n02105056-groenendael', 'n02105162-malinois', 'n02105251-briard', 'n02105412-kelpie', 'n02105505-komondor', 'n02105641-Old_English_sheepdog', 'n02105855-Shetland_sheepdog', 'n02106030-collie', 'n02106166-Border_collie', 'n02106382-Bouvier_des_Flandres', 'n02106550-Rottweiler', 'n02106662-German_shepherd', 'n02107142-Doberman', 'n02107312-miniature_pinscher', 'n02107574-Greater_Swiss_Mountain_dog', 'n02107683-Bernese_mountain_dog', 'n02107908-Appenzeller', 'n02108000-EntleBucher', 'n02108089-boxer', 'n02108422-bull_mastiff', 'n02108551-Tibetan_mastiff', 'n02108915-French_bulldog', 'n02109047-Great_Dane', 'n02109525-Saint_Bernard', 'n02109961-Eskimo_dog', 'n02110063-malamute', 'n02110185-Siberian_husky', 'n02110627-affenpinscher', 'n02110806-basenji', 'n02110958-pug', 'n02111129-Leonberg', 'n02111277-Newfoundland', 'n02111500-Great_Pyrenees', 'n02111889-Samoyed', 'n02112018-Pomeranian', 'n02112137-chow', 'n02112350-keeshond', 'n02112706-Brabancon_griffon', 'n02113023-Pembroke', 'n02113186-Cardigan', 'n02113624-toy_poodle', 'n02113712-miniature_poodle', 'n02113799-standard_poodle', 'n02113978-Mexican_hairless', 'n02115641-dingo', 'n02115913-dhole', 'n02116738-African_hunting_dog']\n"
     ]
    }
   ],
   "source": [
    "import os\n",
    "imgs = \"./Images\"\n",
    "anns = \"./Annotation\"\n",
    "folders = os.listdir(imgs)\n",
    "folders.sort()\n",
    "print(folder)"
   ]
  },
  {
   "cell_type": "code",
   "execution_count": 7,
   "metadata": {},
   "outputs": [
    {
     "name": "stdout",
     "output_type": "stream",
     "text": [
      "n02085620-Chihuahua\n",
      "n02085782-Japanese_spaniel\n",
      "n02085936-Maltese_dog\n",
      "n02086079-Pekinese\n",
      "n02086240-Shih-Tzu\n",
      "n02086646-Blenheim_spaniel\n",
      "n02086910-papillon\n",
      "n02087046-toy_terrier\n",
      "n02087394-Rhodesian_ridgeback\n",
      "n02088094-Afghan_hound\n",
      "n02088238-basset\n",
      "n02088364-beagle\n",
      "n02088466-bloodhound\n",
      "n02088632-bluetick\n",
      "n02089078-black-and-tan_coonhound\n",
      "n02089867-Walker_hound\n",
      "n02089973-English_foxhound\n",
      "n02090379-redbone\n",
      "n02090622-borzoi\n",
      "n02090721-Irish_wolfhound\n",
      "n02091032-Italian_greyhound\n",
      "n02091134-whippet\n",
      "n02091244-Ibizan_hound\n",
      "n02091467-Norwegian_elkhound\n",
      "n02091635-otterhound\n",
      "n02091831-Saluki\n",
      "n02092002-Scottish_deerhound\n",
      "n02092339-Weimaraner\n",
      "n02093256-Staffordshire_bullterrier\n",
      "n02093428-American_Staffordshire_terrier\n",
      "n02093647-Bedlington_terrier\n",
      "n02093754-Border_terrier\n",
      "n02093859-Kerry_blue_terrier\n",
      "n02093991-Irish_terrier\n",
      "n02094114-Norfolk_terrier\n",
      "n02094258-Norwich_terrier\n",
      "n02094433-Yorkshire_terrier\n",
      "n02095314-wire-haired_fox_terrier\n",
      "n02095570-Lakeland_terrier\n",
      "n02095889-Sealyham_terrier\n",
      "n02096051-Airedale\n",
      "n02096177-cairn\n",
      "n02096294-Australian_terrier\n",
      "n02096437-Dandie_Dinmont\n",
      "n02096585-Boston_bull\n",
      "n02097047-miniature_schnauzer\n",
      "n02097130-giant_schnauzer\n",
      "n02097209-standard_schnauzer\n",
      "n02097298-Scotch_terrier\n",
      "n02097474-Tibetan_terrier\n",
      "n02097658-silky_terrier\n",
      "n02098105-soft-coated_wheaten_terrier\n",
      "n02098286-West_Highland_white_terrier\n",
      "n02098413-Lhasa\n",
      "n02099267-flat-coated_retriever\n",
      "n02099429-curly-coated_retriever\n",
      "n02099601-golden_retriever\n",
      "n02099712-Labrador_retriever\n",
      "n02099849-Chesapeake_Bay_retriever\n",
      "n02100236-German_short-haired_pointer\n",
      "n02100583-vizsla\n",
      "n02100735-English_setter\n",
      "n02100877-Irish_setter\n",
      "n02101006-Gordon_setter\n",
      "n02101388-Brittany_spaniel\n",
      "n02101556-clumber\n",
      "n02102040-English_springer\n",
      "n02102177-Welsh_springer_spaniel\n",
      "n02102318-cocker_spaniel\n",
      "n02102480-Sussex_spaniel\n",
      "n02102973-Irish_water_spaniel\n",
      "n02104029-kuvasz\n",
      "n02104365-schipperke\n",
      "n02105056-groenendael\n",
      "n02105162-malinois\n",
      "n02105251-briard\n",
      "n02105412-kelpie\n",
      "n02105505-komondor\n",
      "n02105641-Old_English_sheepdog\n",
      "n02105855-Shetland_sheepdog\n",
      "n02106030-collie\n",
      "n02106166-Border_collie\n",
      "n02106382-Bouvier_des_Flandres\n",
      "n02106550-Rottweiler\n",
      "n02106662-German_shepherd\n"
     ]
    }
   ],
   "source": [
    "flag = False\n",
    "import shutil\n",
    "for folder in folders:\n",
    "    if folder == \"n02107142-Doberman\":\n",
    "        flag = True\n",
    "    if not flag:\n",
    "        print(folder)\n",
    "        shutil.rmtree(os.path.join(imgs, folder))\n",
    "        shutil.rmtree(os.path.join(anns, folder))"
   ]
  },
  {
   "cell_type": "code",
   "execution_count": 6,
   "metadata": {},
   "outputs": [
    {
     "name": "stdout",
     "output_type": "stream",
     "text": [
      "n02107312-miniature_pinscher\n",
      "n02112137-chow\n",
      "n02111277-Newfoundland\n",
      "n02107908-Appenzeller\n",
      "n02112706-Brabancon_griffon\n",
      "n02107142-Doberman\n",
      "n02111889-Samoyed\n",
      "n02111500-Great_Pyrenees\n",
      "n02116738-African_hunting_dog\n",
      "n02109961-Eskimo_dog\n",
      "n02113186-Cardigan\n",
      "n02107574-Greater_Swiss_Mountain_dog\n",
      "n02108551-Tibetan_mastiff\n",
      "n02110063-malamute\n",
      "n02109047-Great_Dane\n",
      "n02110627-affenpinscher\n",
      "n02107683-Bernese_mountain_dog\n",
      "n02115913-dhole\n",
      "n02113023-Pembroke\n",
      "n02109525-Saint_Bernard\n",
      "n02115641-dingo\n",
      "n02110806-basenji\n",
      "n02108089-boxer\n",
      "n02110958-pug\n",
      "n02113624-toy_poodle\n",
      "n02113978-Mexican_hairless\n",
      "n02113799-standard_poodle\n",
      "n02111129-Leonberg\n",
      "n02108000-EntleBucher\n",
      "n02112018-Pomeranian\n",
      "n02108422-bull_mastiff\n",
      "n02113712-miniature_poodle\n",
      "n02108915-French_bulldog\n",
      "n02110185-Siberian_husky\n",
      "n02112350-keeshond\n"
     ]
    }
   ],
   "source": [
    "output_img = \"./images\"\n",
    "output_anns = \"./anns\"\n",
    "imgs = \"./Images\"\n",
    "import os\n",
    "import shutil\n",
    "for folder in os.listdir(imgs):\n",
    "    print(folder)\n",
    "    for img in os.listdir(os.path.join(imgs, folder)):\n",
    "        shutil.copy(os.path.join(imgs, folder, img), os.path.join(output_img, img))"
   ]
  },
  {
   "cell_type": "code",
   "execution_count": 9,
   "metadata": {},
   "outputs": [
    {
     "name": "stdout",
     "output_type": "stream",
     "text": [
      "n02107312-miniature_pinscher\n",
      "n02112137-chow\n",
      "n02111277-Newfoundland\n",
      "n02107908-Appenzeller\n",
      "n02112706-Brabancon_griffon\n",
      "n02107142-Doberman\n",
      "n02111889-Samoyed\n",
      "n02111500-Great_Pyrenees\n",
      "n02116738-African_hunting_dog\n",
      "n02109961-Eskimo_dog\n",
      "n02113186-Cardigan\n",
      "n02107574-Greater_Swiss_Mountain_dog\n",
      "n02108551-Tibetan_mastiff\n",
      "n02110063-malamute\n",
      "n02109047-Great_Dane\n",
      "n02110627-affenpinscher\n",
      "n02107683-Bernese_mountain_dog\n",
      "n02115913-dhole\n",
      "n02113023-Pembroke\n",
      "n02109525-Saint_Bernard\n",
      "n02115641-dingo\n",
      "n02110806-basenji\n",
      "n02108089-boxer\n",
      "n02110958-pug\n",
      "n02113624-toy_poodle\n",
      "n02113978-Mexican_hairless\n",
      "n02113799-standard_poodle\n",
      "n02111129-Leonberg\n",
      "n02108000-EntleBucher\n",
      "n02112018-Pomeranian\n",
      "n02108422-bull_mastiff\n",
      "n02113712-miniature_poodle\n",
      "n02108915-French_bulldog\n",
      "n02110185-Siberian_husky\n",
      "n02112350-keeshond\n"
     ]
    }
   ],
   "source": [
    "output_img = \"./images\"\n",
    "output_anns = \"./anns\"\n",
    "anns = \"./Annotation\"\n",
    "import os\n",
    "import shutil\n",
    "for folder in os.listdir(anns):\n",
    "    print(folder)\n",
    "    for ann in os.listdir(os.path.join(anns, folder)):\n",
    "        shutil.copy(os.path.join(anns, folder, ann), os.path.join(output_anns, ann + \".xml\"))"
   ]
  },
  {
   "cell_type": "code",
   "execution_count": 21,
   "metadata": {},
   "outputs": [],
   "source": [
    "import pandas as pd\n",
    "file = pd.read_csv(\"./train/_annotations.csv\", header=None)\n",
    "class_list = file.iloc[:, 5].unique()"
   ]
  },
  {
   "cell_type": "code",
   "execution_count": 13,
   "metadata": {},
   "outputs": [],
   "source": [
    "with open(\"classes.csv\", 'w') as f:\n",
    "    counter = 0\n",
    "    for c in class_list:\n",
    "        f.write(c + \",\" + str(counter) + \"\\n\")\n",
    "        counter += 1\n",
    "    f.flush()"
   ]
  },
  {
   "cell_type": "code",
   "execution_count": 14,
   "metadata": {},
   "outputs": [],
   "source": [
    "import pandas as pd\n",
    "file = pd.read_csv(\"./train/_annotations.csv\", header=None)\n",
    "file.iloc[:,0] = \"train/\" + file.iloc[:,0]\n",
    "file.to_csv(\"1train_annotations.csv\", header=None, index=None)"
   ]
  },
  {
   "cell_type": "code",
   "execution_count": 18,
   "metadata": {},
   "outputs": [],
   "source": []
  },
  {
   "cell_type": "code",
   "execution_count": 15,
   "metadata": {},
   "outputs": [],
   "source": [
    "file = pd.read_csv(\"./test/_annotations.csv\", header=None)\n",
    "file.iloc[:,0] = \"test/\" + file.iloc[:,0]\n",
    "file.to_csv(\"1test_annotations.csv\", header=None, index=None)"
   ]
  },
  {
   "cell_type": "code",
   "execution_count": 13,
   "metadata": {},
   "outputs": [],
   "source": [
    "file = pd.read_csv(\"./valid/_annotations.csv\", header=None)\n",
    "file.iloc[:,0] = \"data/valid/\" + file.iloc[:,0]\n",
    "file.to_csv(\"valid_annotations.csv\", header=None, index=None)"
   ]
  },
  {
   "cell_type": "code",
   "execution_count": null,
   "metadata": {},
   "outputs": [],
   "source": []
  }
 ],
 "metadata": {
  "kernelspec": {
   "display_name": "Python 3",
   "language": "python",
   "name": "python3"
  },
  "language_info": {
   "codemirror_mode": {
    "name": "ipython",
    "version": 3
   },
   "file_extension": ".py",
   "mimetype": "text/x-python",
   "name": "python",
   "nbconvert_exporter": "python",
   "pygments_lexer": "ipython3",
   "version": "3.8.6"
  }
 },
 "nbformat": 4,
 "nbformat_minor": 5
}
