{
 "cells": [
  {
   "cell_type": "code",
   "execution_count": 2,
   "metadata": {},
   "outputs": [
    {
     "name": "stdout",
     "output_type": "stream",
     "text": [
      "\u001b[34m\u001b[1mtrain: \u001b[0mweights=yolov5m.pt, cfg=, data=data.yaml, hyp=data/hyps/hyp.scratch-low.yaml, epochs=100, batch_size=32, imgsz=224, rect=False, resume=False, nosave=False, noval=False, noautoanchor=False, noplots=False, evolve=None, bucket=, cache=None, image_weights=False, device=, multi_scale=False, single_cls=False, optimizer=SGD, sync_bn=False, workers=8, project=runs/train, name=exp, exist_ok=False, quad=False, cos_lr=False, label_smoothing=0.0, patience=100, freeze=[0], save_period=-1, seed=0, local_rank=-1, entity=None, upload_dataset=False, bbox_interval=-1, artifact_alias=latest\n",
      "\u001b[34m\u001b[1mgithub: \u001b[0mup to date with https://github.com/ultralytics/yolov5 ✅\n",
      "\u001b[31m\u001b[1mrequirements:\u001b[0m YOLOv5 requirements \"tensorboard>=2.4.1\" \"pandas>=1.1.4\" not found, attempting AutoUpdate...\n",
      "\u001b[33mWARNING: You are using pip version 20.2.3; however, version 22.3.1 is available.\n",
      "You should consider upgrading via the '/share/apps/python/3.8.6/intel/bin/python -m pip install --upgrade pip' command.\u001b[0m\n",
      "Defaulting to user installation because normal site-packages is not writeable\n",
      "Requirement already satisfied: tensorboard>=2.4.1 in /scratch/ly2279/.local/lib/python3.8/site-packages (2.11.0)\n",
      "Collecting pandas>=1.1.4\n",
      "  Using cached pandas-1.5.2-cp38-cp38-manylinux_2_17_x86_64.manylinux2014_x86_64.whl (12.2 MB)\n",
      "Requirement already satisfied: absl-py>=0.4 in /share/apps/python/3.8.6/intel/lib/python3.8/site-packages (from tensorboard>=2.4.1) (0.13.0)\n",
      "Requirement already satisfied: setuptools>=41.0.0 in /share/apps/python/3.8.6/intel/lib/python3.8/site-packages (from tensorboard>=2.4.1) (49.2.1)\n",
      "Requirement already satisfied: markdown>=2.6.8 in /scratch/ly2279/.local/lib/python3.8/site-packages (from tensorboard>=2.4.1) (3.4.1)\n",
      "Requirement already satisfied: wheel>=0.26 in /share/apps/python/3.8.6/intel/lib/python3.8/site-packages (from tensorboard>=2.4.1) (0.35.1)\n",
      "Requirement already satisfied: tensorboard-data-server<0.7.0,>=0.6.0 in /scratch/ly2279/.local/lib/python3.8/site-packages (from tensorboard>=2.4.1) (0.6.1)\n",
      "Requirement already satisfied: protobuf<4,>=3.9.2 in /scratch/ly2279/.local/lib/python3.8/site-packages (from tensorboard>=2.4.1) (3.19.6)\n",
      "Requirement already satisfied: numpy>=1.12.0 in /scratch/ly2279/.local/lib/python3.8/site-packages (from tensorboard>=2.4.1) (1.24.0)\n",
      "Requirement already satisfied: google-auth<3,>=1.6.3 in /scratch/ly2279/.local/lib/python3.8/site-packages (from tensorboard>=2.4.1) (2.15.0)\n",
      "Requirement already satisfied: requests<3,>=2.21.0 in /share/apps/python/3.8.6/intel/lib/python3.8/site-packages (from tensorboard>=2.4.1) (2.24.0)\n",
      "Requirement already satisfied: tensorboard-plugin-wit>=1.6.0 in /scratch/ly2279/.local/lib/python3.8/site-packages (from tensorboard>=2.4.1) (1.8.1)\n",
      "Requirement already satisfied: google-auth-oauthlib<0.5,>=0.4.1 in /scratch/ly2279/.local/lib/python3.8/site-packages (from tensorboard>=2.4.1) (0.4.6)\n",
      "Requirement already satisfied: werkzeug>=1.0.1 in /scratch/ly2279/.local/lib/python3.8/site-packages (from tensorboard>=2.4.1) (2.2.2)\n",
      "Requirement already satisfied: grpcio>=1.24.3 in /scratch/ly2279/.local/lib/python3.8/site-packages (from tensorboard>=2.4.1) (1.51.1)\n",
      "Requirement already satisfied: pytz>=2020.1 in /share/apps/python/3.8.6/intel/lib/python3.8/site-packages (from pandas>=1.1.4) (2020.1)\n",
      "Requirement already satisfied: python-dateutil>=2.8.1 in /share/apps/python/3.8.6/intel/lib/python3.8/site-packages (from pandas>=1.1.4) (2.8.1)\n",
      "Requirement already satisfied: six in /share/apps/python/3.8.6/intel/lib/python3.8/site-packages (from absl-py>=0.4->tensorboard>=2.4.1) (1.15.0)\n",
      "Requirement already satisfied: importlib-metadata>=4.4; python_version < \"3.10\" in /scratch/ly2279/.local/lib/python3.8/site-packages (from markdown>=2.6.8->tensorboard>=2.4.1) (5.0.0)\n",
      "Requirement already satisfied: cachetools<6.0,>=2.0.0 in /scratch/ly2279/.local/lib/python3.8/site-packages (from google-auth<3,>=1.6.3->tensorboard>=2.4.1) (5.2.0)\n",
      "Requirement already satisfied: rsa<5,>=3.1.4; python_version >= \"3.6\" in /scratch/ly2279/.local/lib/python3.8/site-packages (from google-auth<3,>=1.6.3->tensorboard>=2.4.1) (4.9)\n",
      "Requirement already satisfied: pyasn1-modules>=0.2.1 in /scratch/ly2279/.local/lib/python3.8/site-packages (from google-auth<3,>=1.6.3->tensorboard>=2.4.1) (0.2.8)\n",
      "Requirement already satisfied: urllib3!=1.25.0,!=1.25.1,<1.26,>=1.21.1 in /share/apps/python/3.8.6/intel/lib/python3.8/site-packages (from requests<3,>=2.21.0->tensorboard>=2.4.1) (1.25.10)\n",
      "Requirement already satisfied: chardet<4,>=3.0.2 in /share/apps/python/3.8.6/intel/lib/python3.8/site-packages (from requests<3,>=2.21.0->tensorboard>=2.4.1) (3.0.4)\n",
      "Requirement already satisfied: certifi>=2017.4.17 in /share/apps/python/3.8.6/intel/lib/python3.8/site-packages (from requests<3,>=2.21.0->tensorboard>=2.4.1) (2020.6.20)\n",
      "Requirement already satisfied: idna<3,>=2.5 in /share/apps/python/3.8.6/intel/lib/python3.8/site-packages (from requests<3,>=2.21.0->tensorboard>=2.4.1) (2.10)\n",
      "Requirement already satisfied: requests-oauthlib>=0.7.0 in /scratch/ly2279/.local/lib/python3.8/site-packages (from google-auth-oauthlib<0.5,>=0.4.1->tensorboard>=2.4.1) (1.3.1)\n",
      "Collecting MarkupSafe>=2.1.1\n",
      "  Using cached MarkupSafe-2.1.1-cp38-cp38-manylinux_2_17_x86_64.manylinux2014_x86_64.whl (25 kB)\n",
      "Requirement already satisfied: zipp>=0.5 in /scratch/ly2279/.local/lib/python3.8/site-packages (from importlib-metadata>=4.4; python_version < \"3.10\"->markdown>=2.6.8->tensorboard>=2.4.1) (3.10.0)\n",
      "Requirement already satisfied: pyasn1>=0.1.3 in /scratch/ly2279/.local/lib/python3.8/site-packages (from rsa<5,>=3.1.4; python_version >= \"3.6\"->google-auth<3,>=1.6.3->tensorboard>=2.4.1) (0.4.8)\n",
      "Requirement already satisfied: oauthlib>=3.0.0 in /share/apps/python/3.8.6/intel/lib/python3.8/site-packages (from requests-oauthlib>=0.7.0->google-auth-oauthlib<0.5,>=0.4.1->tensorboard>=2.4.1) (3.1.0)\n",
      "Installing collected packages: pandas, MarkupSafe\n",
      "Successfully installed MarkupSafe-2.1.1 pandas-1.5.2\n",
      "\n",
      "\u001b[31m\u001b[1mrequirements:\u001b[0m 2 packages updated per /scratch/ly2279/FinalProject/DL_FinalProject/codes/yolov5/requirements.txt\n",
      "\u001b[31m\u001b[1mrequirements:\u001b[0m ⚠️ \u001b[1mRestart runtime or rerun command for updates to take effect\u001b[0m\n",
      "\n",
      "YOLOv5 🚀 v7.0-46-g96a71b1 Python-3.8.6 torch-1.13.1+cu117 CUDA:0 (Quadro RTX 8000, 45556MiB)\n",
      "\n",
      "\u001b[34m\u001b[1mhyperparameters: \u001b[0mlr0=0.01, lrf=0.01, momentum=0.937, weight_decay=0.0005, warmup_epochs=3.0, warmup_momentum=0.8, warmup_bias_lr=0.1, box=0.05, cls=0.5, cls_pw=1.0, obj=1.0, obj_pw=1.0, iou_t=0.2, anchor_t=4.0, fl_gamma=0.0, hsv_h=0.015, hsv_s=0.7, hsv_v=0.4, degrees=0.0, translate=0.1, scale=0.5, shear=0.0, perspective=0.0, flipud=0.0, fliplr=0.5, mosaic=1.0, mixup=0.0, copy_paste=0.0\n",
      "\u001b[34m\u001b[1mClearML: \u001b[0mrun 'pip install clearml' to automatically track, visualize and remotely train YOLOv5 🚀 in ClearML\n",
      "\u001b[34m\u001b[1mComet: \u001b[0mrun 'pip install comet_ml' to automatically track and visualize YOLOv5 🚀 runs in Comet\n",
      "\u001b[34m\u001b[1mTensorBoard: \u001b[0mStart with 'tensorboard --logdir runs/train', view at http://localhost:6006/\n",
      "2022-12-22 02:52:04.263244: I tensorflow/core/platform/cpu_feature_guard.cc:193] This TensorFlow binary is optimized with oneAPI Deep Neural Network Library (oneDNN) to use the following CPU instructions in performance-critical operations:  AVX2 AVX512F AVX512_VNNI FMA\n",
      "To enable them in other operations, rebuild TensorFlow with the appropriate compiler flags.\n",
      "2022-12-22 02:52:04.420294: I tensorflow/core/util/port.cc:104] oneDNN custom operations are on. You may see slightly different numerical results due to floating-point round-off errors from different computation orders. To turn them off, set the environment variable `TF_ENABLE_ONEDNN_OPTS=0`.\n",
      "2022-12-22 02:52:05.293418: W tensorflow/compiler/xla/stream_executor/platform/default/dso_loader.cc:64] Could not load dynamic library 'libnvinfer.so.7'; dlerror: libnvinfer.so.7: cannot open shared object file: No such file or directory; LD_LIBRARY_PATH: /scratch/ly2279/.local/lib/python3.8/site-packages/cv2/../../lib64:/share/apps/r/4.0.3/intel/lib64/R/lib:/share/apps/intel/19.1.2/mkl/lib/intel64:/share/apps/intel/19.1.2/lib/intel64:/share/apps/intel/19.1.2/lib:/share/apps/python/3.8.6/intel/lib::/share/apps/centos/8/usr/lib:/share/apps/centos/8/usr/lib64:/share/apps/centos/8/lib64\n",
      "2022-12-22 02:52:05.293748: W tensorflow/compiler/xla/stream_executor/platform/default/dso_loader.cc:64] Could not load dynamic library 'libnvinfer_plugin.so.7'; dlerror: libnvinfer_plugin.so.7: cannot open shared object file: No such file or directory; LD_LIBRARY_PATH: /scratch/ly2279/.local/lib/python3.8/site-packages/cv2/../../lib64:/share/apps/r/4.0.3/intel/lib64/R/lib:/share/apps/intel/19.1.2/mkl/lib/intel64:/share/apps/intel/19.1.2/lib/intel64:/share/apps/intel/19.1.2/lib:/share/apps/python/3.8.6/intel/lib::/share/apps/centos/8/usr/lib:/share/apps/centos/8/usr/lib64:/share/apps/centos/8/lib64\n",
      "2022-12-22 02:52:05.293762: W tensorflow/compiler/tf2tensorrt/utils/py_utils.cc:38] TF-TRT Warning: Cannot dlopen some TensorRT libraries. If you would like to use Nvidia GPU with TensorRT, please make sure the missing libraries mentioned above are installed properly.\n",
      "Overriding model.yaml nc=80 with nc=35\n",
      "\n",
      "                 from  n    params  module                                  arguments                     \n",
      "  0                -1  1      5280  models.common.Conv                      [3, 48, 6, 2, 2]              \n",
      "  1                -1  1     41664  models.common.Conv                      [48, 96, 3, 2]                \n",
      "  2                -1  2     65280  models.common.C3                        [96, 96, 2]                   \n",
      "  3                -1  1    166272  models.common.Conv                      [96, 192, 3, 2]               \n",
      "  4                -1  4    444672  models.common.C3                        [192, 192, 4]                 \n",
      "  5                -1  1    664320  models.common.Conv                      [192, 384, 3, 2]              \n",
      "  6                -1  6   2512896  models.common.C3                        [384, 384, 6]                 \n",
      "  7                -1  1   2655744  models.common.Conv                      [384, 768, 3, 2]              \n",
      "  8                -1  2   4134912  models.common.C3                        [768, 768, 2]                 \n",
      "  9                -1  1   1476864  models.common.SPPF                      [768, 768, 5]                 \n",
      " 10                -1  1    295680  models.common.Conv                      [768, 384, 1, 1]              \n",
      " 11                -1  1         0  torch.nn.modules.upsampling.Upsample    [None, 2, 'nearest']          \n",
      " 12           [-1, 6]  1         0  models.common.Concat                    [1]                           \n",
      " 13                -1  2   1182720  models.common.C3                        [768, 384, 2, False]          \n",
      " 14                -1  1     74112  models.common.Conv                      [384, 192, 1, 1]              \n",
      " 15                -1  1         0  torch.nn.modules.upsampling.Upsample    [None, 2, 'nearest']          \n",
      " 16           [-1, 4]  1         0  models.common.Concat                    [1]                           \n",
      " 17                -1  2    296448  models.common.C3                        [384, 192, 2, False]          \n",
      " 18                -1  1    332160  models.common.Conv                      [192, 192, 3, 2]              \n",
      " 19          [-1, 14]  1         0  models.common.Concat                    [1]                           \n",
      " 20                -1  2   1035264  models.common.C3                        [384, 384, 2, False]          \n",
      " 21                -1  1   1327872  models.common.Conv                      [384, 384, 3, 2]              \n",
      " 22          [-1, 10]  1         0  models.common.Concat                    [1]                           \n",
      " 23                -1  2   4134912  models.common.C3                        [768, 768, 2, False]          \n",
      " 24      [17, 20, 23]  1    161640  models.yolo.Detect                      [35, [[10, 13, 16, 30, 33, 23], [30, 61, 62, 45, 59, 119], [116, 90, 156, 198, 373, 326]], [192, 384, 768]]\n",
      "Model summary: 291 layers, 21008712 parameters, 21008712 gradients, 48.7 GFLOPs\n",
      "\n",
      "Transferred 475/481 items from yolov5m.pt\n",
      "\u001b[34m\u001b[1mAMP: \u001b[0mchecks passed ✅\n",
      "\u001b[34m\u001b[1moptimizer:\u001b[0m SGD(lr=0.01) with parameter groups 79 weight(decay=0.0), 82 weight(decay=0.0005), 82 bias\n",
      "\u001b[34m\u001b[1mtrain: \u001b[0mScanning /scratch/ly2279/FinalProject/DL_FinalProject/codes/yolov5/train/\u001b[0m\n",
      "Traceback (most recent call last):\n",
      "  File \"train.py\", line 634, in <module>\n",
      "    main(opt)\n",
      "  File \"train.py\", line 528, in main\n",
      "    train(opt.hyp, opt, device, callbacks)\n",
      "  File \"train.py\", line 187, in train\n",
      "    train_loader, dataset = create_dataloader(train_path,\n",
      "  File \"/scratch/ly2279/FinalProject/DL_FinalProject/codes/yolov5/utils/dataloaders.py\", line 145, in create_dataloader\n",
      "    return loader(dataset,\n",
      "  File \"/scratch/ly2279/FinalProject/DL_FinalProject/codes/yolov5/utils/dataloaders.py\", line 165, in __init__\n",
      "    self.iterator = super().__iter__()\n",
      "  File \"/home/ly2279/.local/lib/python3.8/site-packages/torch/utils/data/dataloader.py\", line 435, in __iter__\n",
      "    return self._get_iterator()\n",
      "  File \"/home/ly2279/.local/lib/python3.8/site-packages/torch/utils/data/dataloader.py\", line 381, in _get_iterator\n",
      "    return _MultiProcessingDataLoaderIter(self)\n",
      "  File \"/home/ly2279/.local/lib/python3.8/site-packages/torch/utils/data/dataloader.py\", line 1072, in __init__\n",
      "    self._reset(loader, first_iter=True)\n",
      "  File \"/home/ly2279/.local/lib/python3.8/site-packages/torch/utils/data/dataloader.py\", line 1105, in _reset\n",
      "    self._try_put_index()\n",
      "  File \"/home/ly2279/.local/lib/python3.8/site-packages/torch/utils/data/dataloader.py\", line 1339, in _try_put_index\n",
      "    index = self._next_index()\n",
      "  File \"/home/ly2279/.local/lib/python3.8/site-packages/torch/utils/data/dataloader.py\", line 618, in _next_index\n",
      "    return next(self._sampler_iter)  # may raise StopIteration\n",
      "  File \"/scratch/ly2279/FinalProject/DL_FinalProject/codes/yolov5/utils/dataloaders.py\", line 187, in __iter__\n",
      "    yield from iter(self.sampler)\n",
      "  File \"/home/ly2279/.local/lib/python3.8/site-packages/torch/utils/data/sampler.py\", line 254, in __iter__\n",
      "    for idx in self.sampler:\n",
      "  File \"/home/ly2279/.local/lib/python3.8/site-packages/torch/utils/data/sampler.py\", line 132, in __iter__\n",
      "    yield from torch.randperm(n, generator=generator, device='cuda').tolist()\n",
      "RuntimeError: Expected a 'cuda' device type for generator but found 'cpu'\n"
     ]
    }
   ],
   "source": [
    "!python train.py --img 224 --batch 32 --epochs 100 --data data.yaml --weights yolov5m.pt"
   ]
  },
  {
   "cell_type": "code",
   "execution_count": 13,
   "metadata": {},
   "outputs": [],
   "source": [
    "from utils.plots import plot_results \n",
    "plot_results('runs/train/exp8/results.csv')  \n",
    "# plot 'runs/train/exp8/results.csv' as 'runs/train/exp8/results.png'"
   ]
  },
  {
   "cell_type": "code",
   "execution_count": 10,
   "metadata": {},
   "outputs": [
    {
     "name": "stdout",
     "output_type": "stream",
     "text": [
      "CITATION.cff\t     __pycache__    models\t      train.py\n",
      "CONTRIBUTING.md      benchmarks.py  requirements.txt  tutorial.ipynb\n",
      "LICENSE\t\t     classify\t    runs\t      utils\n",
      "README.dataset.txt   data\t    sampler.py\t      val.py\n",
      "README.md\t     data.yaml\t    segment\t      valid\n",
      "README.roboflow.txt  detect.py\t    setup.cfg\t      yolov5m.pt\n",
      "README.zh-CN.md      export.py\t    test\t      yolov5s.pt\n",
      "Yolov5.ipynb\t     hubconf.py     train\n"
     ]
    }
   ],
   "source": [
    "!ls"
   ]
  },
  {
   "cell_type": "code",
   "execution_count": null,
   "metadata": {},
   "outputs": [],
   "source": [
    "# we can also output some older school graphs if the tensor board isn't working for whatever reason... \n",
    "from utils.plots import plot_results  # plot results.txt as results.png\n",
    "Image(filename='/content/yolov5/runs/train/yolov5s_results/results.png', width=1000)  # view results.png"
   ]
  }
 ],
 "metadata": {
  "kernelspec": {
   "display_name": "Python 3",
   "language": "python",
   "name": "python3"
  },
  "language_info": {
   "codemirror_mode": {
    "name": "ipython",
    "version": 3
   },
   "file_extension": ".py",
   "mimetype": "text/x-python",
   "name": "python",
   "nbconvert_exporter": "python",
   "pygments_lexer": "ipython3",
   "version": "3.8.6"
  }
 },
 "nbformat": 4,
 "nbformat_minor": 4
}
