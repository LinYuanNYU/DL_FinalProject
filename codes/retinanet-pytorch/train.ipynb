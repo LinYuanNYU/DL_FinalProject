{
 "cells": [
  {
   "cell_type": "code",
   "execution_count": 5,
   "metadata": {},
   "outputs": [
    {
     "name": "stdout",
     "output_type": "stream",
     "text": [
      "/home/ly2279/.local/lib/python3.8/site-packages/numpy/core/getlimits.py:518: UserWarning: The value of the smallest subnormal for <class 'numpy.float64'> type is zero.\n",
      "  setattr(self, word, getattr(machar, word).flat[0])\n",
      "/home/ly2279/.local/lib/python3.8/site-packages/numpy/core/getlimits.py:89: UserWarning: The value of the smallest subnormal for <class 'numpy.float64'> type is zero.\n",
      "  return self._float_to_str(self.smallest_subnormal)\n",
      "/home/ly2279/.local/lib/python3.8/site-packages/numpy/core/getlimits.py:518: UserWarning: The value of the smallest subnormal for <class 'numpy.float32'> type is zero.\n",
      "  setattr(self, word, getattr(machar, word).flat[0])\n",
      "/home/ly2279/.local/lib/python3.8/site-packages/numpy/core/getlimits.py:89: UserWarning: The value of the smallest subnormal for <class 'numpy.float32'> type is zero.\n",
      "  return self._float_to_str(self.smallest_subnormal)\n",
      "/home/ly2279/.local/lib/python3.8/site-packages/skimage/io/manage_plugins.py:23: UserWarning: Your installed pillow version is < 8.1.2. Several security issues (CVE-2021-27921, CVE-2021-25290, CVE-2021-25291, CVE-2021-25293, and more) have been fixed in pillow 8.1.2 or higher. We recommend to upgrade this library.\n",
      "  from .collection import imread_collection_wrapper\n",
      "CUDA available: True\n",
      "Building DataSet\n",
      "Batch size:  64\n",
      "/home/ly2279/.local/lib/python3.8/site-packages/torch/utils/data/dataloader.py:554: UserWarning: This DataLoader will create 3 worker processes in total. Our suggested max number of worker in current system is 2, which is smaller than what this DataLoader is going to create. Please be aware that excessive worker creation might get DataLoader running slow or even freeze, lower the worker number to avoid potential slowness/freeze if necessary.\n",
      "  warnings.warn(_create_warning_msg(\n",
      "Building Model...\n",
      "Downloading: \"https://download.pytorch.org/models/resnet18-5c106cde.pth\" to ./resnet18-5c106cde.pth\n",
      "100%|███████████████████████████████████████| 44.7M/44.7M [00:00<00:00, 116MB/s]\n",
      "Num training images: 4239\n",
      "Epoch: 0 | Iteration: 0/67 | Classification loss: 1.18909 | Regression loss: 1.05570 | Running loss: 2.24479\n",
      "Evaluating dataset\n",
      "608/608\n",
      "mAP:\n",
      "basenji: 0.0\n",
      "Traceback (most recent call last):\n",
      "  File \"train.py\", line 186, in <module>\n",
      "    main()\n",
      "  File \"train.py\", line 174, in main\n",
      "    mAP = csv_eval.evaluate(dataset_val, retinanet)\n",
      "  File \"/scratch/ly2279/FinalProject/DL_FinalProject/codes/retinanet/csv_eval.py\", line 244, in evaluate\n",
      "    print(\"Precision: \",precisions[label][-1])\n",
      "IndexError: index -1 is out of bounds for axis 0 with size 0\n"
     ]
    }
   ],
   "source": [
    "!python train.py --dataset csv --csv_train data/train_annotations.csv --csv_val data/test_annotations.csv --csv_classes data/classes.csv  --depth 18 --log_level 10 --batch_size 64"
   ]
  },
  {
   "cell_type": "code",
   "execution_count": null,
   "metadata": {},
   "outputs": [],
   "source": []
  }
 ],
 "metadata": {
  "kernelspec": {
   "display_name": "Python 3",
   "language": "python",
   "name": "python3"
  },
  "language_info": {
   "codemirror_mode": {
    "name": "ipython",
    "version": 3
   },
   "file_extension": ".py",
   "mimetype": "text/x-python",
   "name": "python",
   "nbconvert_exporter": "python",
   "pygments_lexer": "ipython3",
   "version": "3.8.6"
  }
 },
 "nbformat": 4,
 "nbformat_minor": 4
}
