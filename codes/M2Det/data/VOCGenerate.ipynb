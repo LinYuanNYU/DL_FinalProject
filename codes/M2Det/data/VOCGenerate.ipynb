{
 "cells": [
  {
   "cell_type": "code",
   "execution_count": 27,
   "metadata": {},
   "outputs": [],
   "source": [
    "trainval = open(\"VOCdevkit/VOC2007/ImageSets/Main/trainval.txt\", 'w')\n",
    "train = open(\"VOCdevkit/VOC2007/ImageSets/Main/train.txt\", 'w')\n",
    "test = open(\"VOCdevkit/VOC2007/ImageSets/Main/test.txt\", 'w') \n",
    "val = open(\"VOCdevkit/VOC2007/ImageSets/Main/val.txt\", 'w')"
   ]
  },
  {
   "cell_type": "code",
   "execution_count": 28,
   "metadata": {},
   "outputs": [],
   "source": [
    "import os\n",
    "files = os.listdir(\"./test\")\n",
    "for file in files:\n",
    "    if \".jpg\" in file:\n",
    "        name = file.split(\".jpg\")[0] + \"\\n\"\n",
    "        test.write(name)\n",
    "test.close()"
   ]
  },
  {
   "cell_type": "code",
   "execution_count": 29,
   "metadata": {},
   "outputs": [],
   "source": [
    "files = os.listdir(\"./train\")\n",
    "for file in files:\n",
    "    if \".jpg\" in file:\n",
    "        name = file.split(\".jpg\")[0] + \"\\n\"\n",
    "        trainval.write(name)\n",
    "        train.write(name)\n",
    "files = os.listdir(\"./valid\")\n",
    "for file in files:\n",
    "    if \".jpg\" in file:\n",
    "        name = file.split(\".jpg\")[0] + \"\\n\"\n",
    "        trainval.write(name)\n",
    "        val.write(name)\n",
    "trainval.close()\n",
    "val.close()\n",
    "train.close()"
   ]
  },
  {
   "cell_type": "code",
   "execution_count": null,
   "metadata": {},
   "outputs": [],
   "source": []
  }
 ],
 "metadata": {
  "kernelspec": {
   "display_name": "Python 3",
   "language": "python",
   "name": "python3"
  },
  "language_info": {
   "codemirror_mode": {
    "name": "ipython",
    "version": 3
   },
   "file_extension": ".py",
   "mimetype": "text/x-python",
   "name": "python",
   "nbconvert_exporter": "python",
   "pygments_lexer": "ipython3",
   "version": "3.8.6"
  }
 },
 "nbformat": 4,
 "nbformat_minor": 4
}
