{
 "cells": [
  {
   "cell_type": "code",
   "execution_count": 1,
   "id": "e2cd8110",
   "metadata": {},
   "outputs": [
    {
     "name": "stdout",
     "output_type": "stream",
     "text": [
      "fatal: destination path 'yolov5' already exists and is not an empty directory.\r\n"
     ]
    }
   ],
   "source": [
    "# Download the YOLO-V5 repository.\n",
    "!git clone https://github.com/ultralytics/yolov5.git"
   ]
  },
  {
   "cell_type": "code",
   "execution_count": 2,
   "id": "2009812f",
   "metadata": {},
   "outputs": [
    {
     "name": "stdout",
     "output_type": "stream",
     "text": [
      "/Users/xz/Desktop/Deep_Learning/finalproject/yolov5\n",
      "Setup complete. Using torch 1.13.1 CPU\n"
     ]
    }
   ],
   "source": [
    "%cd yolov5\n",
    "\n",
    "# install dependencies as necessary\n",
    "!pip install -qr requirements.txt  # install dependencies (ignore errors)\n",
    "import torch\n",
    "\n",
    "from IPython.display import Image, clear_output  # to display images\n",
    "from utils.downloads import attempt_download  # to download models/datasets\n",
    "\n",
    "# clear_output()\n",
    "print('Setup complete. Using torch %s %s' % (torch.__version__, torch.cuda.get_device_properties(0) if torch.cuda.is_available() else 'CPU'))"
   ]
  },
  {
   "cell_type": "code",
   "execution_count": 3,
   "id": "57757c51",
   "metadata": {},
   "outputs": [
    {
     "name": "stdout",
     "output_type": "stream",
     "text": [
      "CITATION.cff     benchmarks.py    hubconf.py       train.py\r\n",
      "CONTRIBUTING.md  \u001b[34mclassify\u001b[m\u001b[m         \u001b[34mmodels\u001b[m\u001b[m           tutorial.ipynb\r\n",
      "LICENSE          \u001b[34mdata\u001b[m\u001b[m             requirements.txt \u001b[34mutils\u001b[m\u001b[m\r\n",
      "README.md        detect.py        \u001b[34mruns\u001b[m\u001b[m             val.py\r\n",
      "README.zh-CN.md  \u001b[34mdog-breeds-2\u001b[m\u001b[m     \u001b[34msegment\u001b[m\u001b[m          \u001b[34mwandb\u001b[m\u001b[m\r\n",
      "\u001b[34m__pycache__\u001b[m\u001b[m      export.py        setup.cfg\r\n"
     ]
    }
   ],
   "source": [
    "!ls"
   ]
  },
  {
   "cell_type": "code",
   "execution_count": 4,
   "id": "20d04473",
   "metadata": {},
   "outputs": [
    {
     "name": "stdout",
     "output_type": "stream",
     "text": [
      "Requirement already satisfied: bs4 in /Users/xz/opt/anaconda3/lib/python3.9/site-packages (0.0.1)\n",
      "Requirement already satisfied: beautifulsoup4 in /Users/xz/opt/anaconda3/lib/python3.9/site-packages (from bs4) (4.11.1)\n",
      "Requirement already satisfied: soupsieve>1.2 in /Users/xz/opt/anaconda3/lib/python3.9/site-packages (from beautifulsoup4->bs4) (2.3.1)\n",
      "Note: you may need to restart the kernel to use updated packages.\n"
     ]
    }
   ],
   "source": [
    "# Install beautyful soup library.\n",
    "%pip install bs4"
   ]
  },
  {
   "cell_type": "code",
   "execution_count": 5,
   "id": "fb02d76a",
   "metadata": {},
   "outputs": [],
   "source": [
    "# Import required libraries to process the label data.\n",
    "from glob import glob\n",
    "from bs4 import BeautifulSoup\n",
    "import os"
   ]
  },
  {
   "cell_type": "code",
   "execution_count": 6,
   "id": "190f0447",
   "metadata": {},
   "outputs": [],
   "source": [
    "ann = \"../Stanford_Dogs_Dataset/annotations/Annotation\"\n",
    "for folder in os.listdir(ann):\n",
    "    par = os.path.join(ann, folder)\n",
    "    if \".DS\" not in folder:\n",
    "        for file in os.listdir(os.path.join(ann, folder)):\n",
    "            if (\".xml\" not in file):\n",
    "                os.rename(os.path.join(par, file), os.path.join(par, file + \".xml\"))"
   ]
  },
  {
   "cell_type": "code",
   "execution_count": 7,
   "id": "85f2670f",
   "metadata": {},
   "outputs": [],
   "source": [
    "# Create a label list of label xmal files. \n",
    "labels_path = \"../Stanford_Dogs_Dataset/annotations/Annotation\"\n",
    "labels_dirs = os.listdir(labels_path)\n",
    "label_s_dir = []\n",
    "# print(labels_dirs)\n",
    "for label in labels_dirs:\n",
    "    label_dir = os.path.join(labels_path, label)\n",
    "    labels_dir = list(sorted(glob(label_dir + \"/*.xml\")))"
   ]
  },
  {
   "cell_type": "code",
   "execution_count": 8,
   "id": "6cc52abe",
   "metadata": {},
   "outputs": [],
   "source": [
    "# Create dataset->export->labels foler and a list of txt lables.\n",
    "text_labels_dir = '../dataset/export/labels'\n",
    "os.makedirs(text_labels_dir, exist_ok = True)"
   ]
  },
  {
   "cell_type": "code",
   "execution_count": 9,
   "id": "c2026178",
   "metadata": {},
   "outputs": [],
   "source": [
    "for label in labels_dirs:\n",
    "    label_dir = os.path.join(labels_path, label)\n",
    "    labels_dir = list(sorted(glob(label_dir + \"/*.xml\")))\n",
    "#     print(labels_dir)\n",
    "    # Change labels from xml to txt.\n",
    "    for labels in labels_dir : \n",
    "        with open(labels, 'r') as f :\n",
    "            data = f.read()\n",
    "            soup = BeautifulSoup(data, 'xml')\n",
    "\n",
    "            img_size = soup.find('size')\n",
    "            img_width = int(img_size.find('width').text)\n",
    "            img_height = int(img_size.find('height').text)\n",
    "\n",
    "            objects = soup.find_all('object')\n",
    "            obj_list = []\n",
    "            class_lambda = lambda x : 0 if x == 'cat' else 1\n",
    "            for obj in objects :\n",
    "                label = class_lambda(obj.find('name').text)\n",
    "                xmin = int(obj.find('xmin').text)\n",
    "                ymin = int(obj.find('ymin').text)\n",
    "                xmax = int(obj.find('xmax').text)\n",
    "                ymax = int(obj.find('ymax').text)\n",
    "\n",
    "                x = ((xmin + xmax) / 2) / img_width\n",
    "                y = ((ymin + ymax) / 2) / img_height\n",
    "                width = (xmax - xmin) / img_width\n",
    "                height = (ymax - ymin) / img_height\n",
    "\n",
    "                obj_list.append([label, x, y, width, height])\n",
    "\n",
    "            labels = labels.split(\"/\")[-1]\n",
    "            txt_label_dir = os.path.join(text_labels_dir,labels[:-4] + '.txt')\n",
    "\n",
    "            with open(txt_label_dir, 'w') as f :\n",
    "                for obj in obj_list :\n",
    "                    f.write(str(obj[0]) + ' ' +\\\n",
    "                            str(obj[1]) + ' ' +\\\n",
    "                            str(obj[2]) + ' ' +\\\n",
    "                            str(obj[3]) + ' ' +\\\n",
    "                            str(obj[4]))"
   ]
  },
  {
   "cell_type": "code",
   "execution_count": 10,
   "id": "b2bcff8e",
   "metadata": {},
   "outputs": [],
   "source": [
    "# Import required library to process the images.\n",
    "from distutils.dir_util import copy_tree"
   ]
  },
  {
   "cell_type": "code",
   "execution_count": 11,
   "id": "9b787538",
   "metadata": {},
   "outputs": [],
   "source": [
    "# Create a images directory under the export directory.\n",
    "imgs_dir = '../dataset/export/images'\n",
    "os.makedirs(imgs_dir, exist_ok = True)"
   ]
  },
  {
   "cell_type": "code",
   "execution_count": 12,
   "id": "232e445b",
   "metadata": {},
   "outputs": [],
   "source": [
    "!find . -name \"*.DS_Store\" -type f -delete"
   ]
  },
  {
   "cell_type": "code",
   "execution_count": 13,
   "id": "083f061e",
   "metadata": {},
   "outputs": [],
   "source": [
    "# Copy the iamges to the new directory.\n",
    "path = \"../Stanford_Dogs_Dataset/images/Images\";\n",
    "dirs = os.listdir(path)\n",
    "for file in dirs:\n",
    "    if file != \".DS_Store\":\n",
    "        pic_dir = os.path.join(path, file)\n",
    "        copy_tree(pic_dir,imgs_dir)"
   ]
  },
  {
   "cell_type": "code",
   "execution_count": 14,
   "id": "509e93b4",
   "metadata": {},
   "outputs": [],
   "source": [
    "# Import the spliter.\n",
    "from sklearn.model_selection import train_test_split"
   ]
  },
  {
   "cell_type": "code",
   "execution_count": 15,
   "id": "f509c317",
   "metadata": {},
   "outputs": [],
   "source": [
    "# Splite the image dataset for traning and validation.\n",
    "img_list = glob(imgs_dir + '/*.jpg')\n",
    "train_img, valid_img = train_test_split(img_list, test_size = 0.1, random_state = 0)"
   ]
  },
  {
   "cell_type": "code",
   "execution_count": 16,
   "id": "6a7ad27f",
   "metadata": {},
   "outputs": [],
   "source": [
    "# Save training and validation image list.\n",
    "with open('../dataset/train.txt', 'w') as f:\n",
    "    f.write('\\n'.join(train_img) + '\\n')\n",
    "with open('../dataset/val.txt', 'w') as f:\n",
    "    f.write('\\n'.join(valid_img) + '\\n')"
   ]
  },
  {
   "cell_type": "code",
   "execution_count": 17,
   "id": "1f23c9c1",
   "metadata": {},
   "outputs": [],
   "source": [
    "# Import yaml library to prepare configuration.\n",
    "import yaml"
   ]
  },
  {
   "cell_type": "code",
   "execution_count": 18,
   "id": "943352e2",
   "metadata": {},
   "outputs": [],
   "source": [
    "# Define the yaml file for training.\n",
    "with open('../dataset/data.yaml', 'w') as f:\n",
    "    data = {\n",
    "        'train' : '../dataset/train.txt',\n",
    "        'val' : '../dataset/val.txt',\n",
    "        'nc' : 120,\n",
    "        'names' : dirs\n",
    "    }\n",
    "    yaml.dump(data, f)"
   ]
  },
  {
   "cell_type": "code",
   "execution_count": 19,
   "id": "2305c9d4",
   "metadata": {},
   "outputs": [
    {
     "name": "stdout",
     "output_type": "stream",
     "text": [
      "\u001b[34m\u001b[1mtrain: \u001b[0mweights=yolov5s.pt, cfg=./models/yolov5s.yaml, data=../dataset/data.yaml, hyp=data/hyps/hyp.scratch-low.yaml, epochs=100, batch_size=32, imgsz=224, rect=False, resume=False, nosave=False, noval=False, noautoanchor=False, noplots=False, evolve=None, bucket=, cache=None, image_weights=False, device=, multi_scale=False, single_cls=False, optimizer=SGD, sync_bn=False, workers=8, project=runs/train, name=dog_yolov5s_results, exist_ok=False, quad=False, cos_lr=False, label_smoothing=0.0, patience=100, freeze=[0], save_period=-1, seed=0, local_rank=-1, entity=None, upload_dataset=False, bbox_interval=-1, artifact_alias=latest\n",
      "\u001b[34m\u001b[1mgithub: \u001b[0mup to date with https://github.com/ultralytics/yolov5 ✅\n",
      "YOLOv5 🚀 v7.0-46-g96a71b1 Python-3.9.13 torch-1.13.1 CPU\n",
      "\n",
      "\u001b[34m\u001b[1mhyperparameters: \u001b[0mlr0=0.01, lrf=0.01, momentum=0.937, weight_decay=0.0005, warmup_epochs=3.0, warmup_momentum=0.8, warmup_bias_lr=0.1, box=0.05, cls=0.5, cls_pw=1.0, obj=1.0, obj_pw=1.0, iou_t=0.2, anchor_t=4.0, fl_gamma=0.0, hsv_h=0.015, hsv_s=0.7, hsv_v=0.4, degrees=0.0, translate=0.1, scale=0.5, shear=0.0, perspective=0.0, flipud=0.0, fliplr=0.5, mosaic=1.0, mixup=0.0, copy_paste=0.0\n",
      "\u001b[34m\u001b[1mClearML: \u001b[0mrun 'pip install clearml' to automatically track, visualize and remotely train YOLOv5 🚀 in ClearML\n",
      "\u001b[34m\u001b[1mComet: \u001b[0mrun 'pip install comet_ml' to automatically track and visualize YOLOv5 🚀 runs in Comet\n",
      "\u001b[34m\u001b[1mTensorBoard: \u001b[0mStart with 'tensorboard --logdir runs/train', view at http://localhost:6006/\n",
      "Downloading https://github.com/ultralytics/yolov5/releases/download/v7.0/yolov5s.pt to yolov5s.pt...\n",
      "100%|██████████████████████████████████████| 14.1M/14.1M [00:00<00:00, 15.9MB/s]\n",
      "\n",
      "Overriding model.yaml nc=80 with nc=36\n",
      "\n",
      "                 from  n    params  module                                  arguments                     \n",
      "  0                -1  1      3520  models.common.Conv                      [3, 32, 6, 2, 2]              \n",
      "  1                -1  1     18560  models.common.Conv                      [32, 64, 3, 2]                \n",
      "  2                -1  1     18816  models.common.C3                        [64, 64, 1]                   \n",
      "  3                -1  1     73984  models.common.Conv                      [64, 128, 3, 2]               \n",
      "  4                -1  2    115712  models.common.C3                        [128, 128, 2]                 \n",
      "  5                -1  1    295424  models.common.Conv                      [128, 256, 3, 2]              \n",
      "  6                -1  3    625152  models.common.C3                        [256, 256, 3]                 \n",
      "  7                -1  1   1180672  models.common.Conv                      [256, 512, 3, 2]              \n",
      "  8                -1  1   1182720  models.common.C3                        [512, 512, 1]                 \n",
      "  9                -1  1    656896  models.common.SPPF                      [512, 512, 5]                 \n",
      " 10                -1  1    131584  models.common.Conv                      [512, 256, 1, 1]              \n",
      " 11                -1  1         0  torch.nn.modules.upsampling.Upsample    [None, 2, 'nearest']          \n",
      " 12           [-1, 6]  1         0  models.common.Concat                    [1]                           \n",
      " 13                -1  1    361984  models.common.C3                        [512, 256, 1, False]          \n",
      " 14                -1  1     33024  models.common.Conv                      [256, 128, 1, 1]              \n",
      " 15                -1  1         0  torch.nn.modules.upsampling.Upsample    [None, 2, 'nearest']          \n",
      " 16           [-1, 4]  1         0  models.common.Concat                    [1]                           \n",
      " 17                -1  1     90880  models.common.C3                        [256, 128, 1, False]          \n",
      " 18                -1  1    147712  models.common.Conv                      [128, 128, 3, 2]              \n",
      " 19          [-1, 14]  1         0  models.common.Concat                    [1]                           \n",
      " 20                -1  1    296448  models.common.C3                        [256, 256, 1, False]          \n",
      " 21                -1  1    590336  models.common.Conv                      [256, 256, 3, 2]              \n",
      " 22          [-1, 10]  1         0  models.common.Concat                    [1]                           \n",
      " 23                -1  1   1182720  models.common.C3                        [512, 512, 1, False]          \n",
      " 24      [17, 20, 23]  1    110577  models.yolo.Detect                      [36, [[10, 13, 16, 30, 33, 23], [30, 61, 62, 45, 59, 119], [116, 90, 156, 198, 373, 326]], [128, 256, 512]]\n",
      "YOLOv5s summary: 214 layers, 7116721 parameters, 7116721 gradients, 16.2 GFLOPs\n",
      "\n",
      "Transferred 342/349 items from yolov5s.pt\n",
      "\u001b[34m\u001b[1moptimizer:\u001b[0m SGD(lr=0.01) with parameter groups 57 weight(decay=0.0), 60 weight(decay=0.0005), 60 bias\n",
      "\u001b[34m\u001b[1mtrain: \u001b[0mScanning /Users/xz/Desktop/Deep_Learning/finalproject/dataset/train.cache\u001b[0m\n",
      "\u001b[34m\u001b[1mval: \u001b[0mScanning /Users/xz/Desktop/Deep_Learning/finalproject/dataset/val.cache... \u001b[0m\n",
      "\n",
      "\u001b[34m\u001b[1mAutoAnchor: \u001b[0m5.05 anchors/target, 1.000 Best Possible Recall (BPR). Current anchors are a good fit to dataset ✅\n",
      "Plotting labels to runs/train/dog_yolov5s_results/labels.jpg... \n",
      "Image sizes 224 train, 224 val\n",
      "Using 4 dataloader workers\n",
      "Logging results to \u001b[1mruns/train/dog_yolov5s_results\u001b[0m\n",
      "Starting training for 100 epochs...\n",
      "\n",
      "      Epoch    GPU_mem   box_loss   obj_loss   cls_loss  Instances       Size\n",
      "  0%|          | 0/172 [00:00<?, ?it/s]^C\n",
      "  0%|          | 0/172 [00:03<?, ?it/s]\n",
      "Traceback (most recent call last):\n",
      "  File \"/Users/xz/Desktop/Deep_Learning/finalproject/yolov5/../yolov5/train.py\", line 634, in <module>\n",
      "    main(opt)\n",
      "  File \"/Users/xz/Desktop/Deep_Learning/finalproject/yolov5/../yolov5/train.py\", line 528, in main\n",
      "    train(opt.hyp, opt, device, callbacks)\n",
      "  File \"/Users/xz/Desktop/Deep_Learning/finalproject/yolov5/../yolov5/train.py\", line 309, in train\n",
      "    pred = model(imgs)  # forward\n",
      "  File \"/Users/xz/opt/anaconda3/lib/python3.9/site-packages/torch/nn/modules/module.py\", line 1194, in _call_impl\n",
      "    return forward_call(*input, **kwargs)\n",
      "  File \"/Users/xz/Desktop/Deep_Learning/finalproject/yolov5/models/yolo.py\", line 209, in forward\n",
      "    return self._forward_once(x, profile, visualize)  # single-scale inference, train\n",
      "  File \"/Users/xz/Desktop/Deep_Learning/finalproject/yolov5/models/yolo.py\", line 121, in _forward_once\n",
      "    x = m(x)  # run\n",
      "  File \"/Users/xz/opt/anaconda3/lib/python3.9/site-packages/torch/nn/modules/module.py\", line 1194, in _call_impl\n",
      "    return forward_call(*input, **kwargs)\n",
      "  File \"/Users/xz/Desktop/Deep_Learning/finalproject/yolov5/models/common.py\", line 168, in forward\n",
      "    return self.cv3(torch.cat((self.m(self.cv1(x)), self.cv2(x)), 1))\n",
      "  File \"/Users/xz/opt/anaconda3/lib/python3.9/site-packages/torch/nn/modules/module.py\", line 1194, in _call_impl\n",
      "    return forward_call(*input, **kwargs)\n",
      "  File \"/Users/xz/Desktop/Deep_Learning/finalproject/yolov5/models/common.py\", line 57, in forward\n",
      "    return self.act(self.bn(self.conv(x)))\n",
      "  File \"/Users/xz/opt/anaconda3/lib/python3.9/site-packages/torch/nn/modules/module.py\", line 1194, in _call_impl\n",
      "    return forward_call(*input, **kwargs)\n",
      "  File \"/Users/xz/opt/anaconda3/lib/python3.9/site-packages/torch/nn/modules/conv.py\", line 463, in forward\n",
      "    return self._conv_forward(input, self.weight, self.bias)\n",
      "  File \"/Users/xz/opt/anaconda3/lib/python3.9/site-packages/torch/nn/modules/conv.py\", line 459, in _conv_forward\n",
      "    return F.conv2d(input, weight, bias, self.stride,\n",
      "KeyboardInterrupt\n"
     ]
    }
   ],
   "source": [
    "!python ../yolov5/train.py \\\n",
    "--img 224 \\\n",
    "--batch 32 \\\n",
    "--epochs 100 \\\n",
    "--data ../dataset/data.yaml \\\n",
    "--cfg ./models/yolov5s.yaml \\\n",
    "--weights yolov5s.pt \\\n",
    "--name dog_yolov5s_results\n",
    "\n",
    "# Finish it in 100 epoches"
   ]
  },
  {
   "cell_type": "code",
   "execution_count": null,
   "id": "d195f271",
   "metadata": {},
   "outputs": [],
   "source": [
    "# If get dataset from Roboflow instead of local dataset"
   ]
  },
  {
   "cell_type": "code",
   "execution_count": 6,
   "id": "59f2945b",
   "metadata": {},
   "outputs": [],
   "source": [
    "# Get your download code from from Roboflow\n",
    "!pip install -q roboflow\n"
   ]
  },
  {
   "cell_type": "code",
   "execution_count": null,
   "id": "6e064378",
   "metadata": {},
   "outputs": [],
   "source": [
    "from roboflow import Roboflow\n",
    "rf = Roboflow(api_key=\"ZnpCjOPPvd3ekugIaChf\");\n",
    "project = rf.workspace(\"class-dtdbh\").project(\"dog-breeds-wvthe\");\n",
    "dataset = project.version(2).download(\"yolov5\");"
   ]
  },
  {
   "cell_type": "code",
   "execution_count": null,
   "id": "392679c7",
   "metadata": {},
   "outputs": [],
   "source": [
    "!ls"
   ]
  },
  {
   "cell_type": "code",
   "execution_count": null,
   "id": "4f184283",
   "metadata": {},
   "outputs": [],
   "source": [
    "# this is the YAML file Roboflow wrote for us that we're loading into this notebook with our data\n",
    "%cat {dataset.location}/data.yaml"
   ]
  },
  {
   "cell_type": "code",
   "execution_count": null,
   "id": "6cbfee0c",
   "metadata": {},
   "outputs": [],
   "source": [
    "# set up environment\n",
    "os.environ[\"DATASET_DIRECTORY\"] = \"/content/datasets\""
   ]
  },
  {
   "cell_type": "code",
   "execution_count": null,
   "id": "2fbd3aab",
   "metadata": {},
   "outputs": [],
   "source": [
    "# define number of classes based on YAML\n",
    "import yaml\n",
    "with open(\"yolov5/dog_breeds_dataset/data.yaml\", 'r') as stream:\n",
    "    num_classes = str(yaml.safe_load(stream)['nc'])"
   ]
  },
  {
   "cell_type": "code",
   "execution_count": null,
   "id": "ee85135f",
   "metadata": {},
   "outputs": [],
   "source": [
    "!ls"
   ]
  },
  {
   "cell_type": "code",
   "execution_count": null,
   "id": "ffb4589f",
   "metadata": {},
   "outputs": [],
   "source": [
    "#this is the model configuration we will use\n",
    "%cat models/yolov5s.yaml"
   ]
  },
  {
   "cell_type": "code",
   "execution_count": null,
   "id": "82a2452a",
   "metadata": {},
   "outputs": [],
   "source": [
    "#customize iPython writefile so we can write variables\n",
    "from IPython.core.magic import register_line_cell_magic\n",
    "\n",
    "@register_line_cell_magic\n",
    "def writetemplate(line, cell):\n",
    "    with open(line, 'w') as f:\n",
    "        f.write(cell.format(**globals()))"
   ]
  },
  {
   "cell_type": "code",
   "execution_count": null,
   "id": "a8ed03bb",
   "metadata": {},
   "outputs": [],
   "source": [
    "%%writetemplate dog_breeds_dataset/dog_breeds_yolov5s.yaml\n",
    "\n",
    "# parameters\n",
    "nc: {num_classes}  # number of classes\n",
    "depth_multiple: 0.33  # model depth multiple\n",
    "width_multiple: 0.50  # layer channel multiple\n",
    "\n",
    "# anchors\n",
    "anchors:\n",
    "  - [10,13, 16,30, 33,23]  # P3/8\n",
    "  - [30,61, 62,45, 59,119]  # P4/16\n",
    "  - [116,90, 156,198, 373,326]  # P5/32\n",
    "\n",
    "# YOLOv5 backbone\n",
    "backbone:\n",
    "  # [from, number, module, args]\n",
    "  [[-1, 1, Focus, [64, 3]],  # 0-P1/2\n",
    "   [-1, 1, Conv, [128, 3, 2]],  # 1-P2/4\n",
    "   [-1, 3, BottleneckCSP, [128]],\n",
    "   [-1, 1, Conv, [256, 3, 2]],  # 3-P3/8\n",
    "   [-1, 9, BottleneckCSP, [256]],\n",
    "   [-1, 1, Conv, [512, 3, 2]],  # 5-P4/16\n",
    "   [-1, 9, BottleneckCSP, [512]],\n",
    "   [-1, 1, Conv, [1024, 3, 2]],  # 7-P5/32\n",
    "   [-1, 1, SPP, [1024, [5, 9, 13]]],\n",
    "   [-1, 3, BottleneckCSP, [1024, False]],  # 9\n",
    "  ]\n",
    "\n",
    "# YOLOv5 head\n",
    "head:\n",
    "  [[-1, 1, Conv, [512, 1, 1]],\n",
    "   [-1, 1, nn.Upsample, [None, 2, 'nearest']],\n",
    "   [[-1, 6], 1, Concat, [1]],  # cat backbone P4\n",
    "   [-1, 3, BottleneckCSP, [512, False]],  # 13\n",
    "\n",
    "   [-1, 1, Conv, [256, 1, 1]],\n",
    "   [-1, 1, nn.Upsample, [None, 2, 'nearest']],\n",
    "   [[-1, 4], 1, Concat, [1]],  # cat backbone P3\n",
    "   [-1, 3, BottleneckCSP, [256, False]],  # 17 (P3/8-small)\n",
    "\n",
    "   [-1, 1, Conv, [256, 3, 2]],\n",
    "   [[-1, 14], 1, Concat, [1]],  # cat head P4\n",
    "   [-1, 3, BottleneckCSP, [512, False]],  # 20 (P4/16-medium)\n",
    "\n",
    "   [-1, 1, Conv, [512, 3, 2]],\n",
    "   [[-1, 10], 1, Concat, [1]],  # cat head P5\n",
    "   [-1, 3, BottleneckCSP, [1024, False]],  # 23 (P5/32-large)\n",
    "\n",
    "   [[17, 20, 23], 1, Detect, [nc, anchors]],  # Detect(P3, P4, P5)\n",
    "  ]"
   ]
  },
  {
   "cell_type": "markdown",
   "id": "360b1255",
   "metadata": {},
   "source": [
    "Here, we are able to pass a number of arguments:\n",
    "\n",
    "img: define input image size\n",
    "batch: determine batch size\n",
    "epochs: define the number of training epochs.\n",
    "data: Our dataset locaiton is saved in the dataset.location\n",
    "weights: specify a path to weights to start transfer learning from. \n",
    "cache: cache images for faster training"
   ]
  },
  {
   "cell_type": "code",
   "execution_count": null,
   "id": "8b7ef9c3",
   "metadata": {},
   "outputs": [],
   "source": [
    "%%time\n",
    "# train yolov5s on dog breed data for 100 epochs\n",
    "# time its performance\n",
    "!python train.py --img 224 --batch 32 --epochs 100 --data dog_breeds_dataset/data.yaml --cfg dog_breeds_dataset/dog_breeds_yolov5s.yaml --weights '' --name yolov5s_dog_breeds_results  --cache"
   ]
  },
  {
   "cell_type": "code",
   "execution_count": null,
   "id": "994e3fee",
   "metadata": {},
   "outputs": [],
   "source": []
  },
  {
   "cell_type": "code",
   "execution_count": null,
   "id": "701e3aba",
   "metadata": {},
   "outputs": [],
   "source": [
    "# Start tensorboard\n",
    "# Launch after you have started training\n",
    "# logs save in the folder \"runs\"\n",
    "%load_ext tensorboard\n",
    "%tensorboard --logdir runs"
   ]
  },
  {
   "cell_type": "code",
   "execution_count": null,
   "id": "8bf32a97",
   "metadata": {},
   "outputs": [],
   "source": []
  },
  {
   "cell_type": "code",
   "execution_count": null,
   "id": "5f894cf4",
   "metadata": {},
   "outputs": [],
   "source": [
    "!python detect.py --weights runs/train/exp/weights/best.pt --img 416 --conf 0.1 --source {dataset.location}/test/images"
   ]
  },
  {
   "cell_type": "code",
   "execution_count": null,
   "id": "d4245490",
   "metadata": {},
   "outputs": [],
   "source": [
    "#display inference on ALL test images\n",
    "\n",
    "import glob\n",
    "from IPython.display import Image, display\n",
    "\n",
    "for imageName in glob.glob('runs/detect/exp/*.jpg'): #assuming JPG\n",
    "    display(Image(filename=imageName))\n",
    "    print(\"\\n\")\n",
    "    break"
   ]
  }
 ],
 "metadata": {
  "kernelspec": {
   "display_name": "Python 3 (ipykernel)",
   "language": "python",
   "name": "python3"
  },
  "language_info": {
   "codemirror_mode": {
    "name": "ipython",
    "version": 3
   },
   "file_extension": ".py",
   "mimetype": "text/x-python",
   "name": "python",
   "nbconvert_exporter": "python",
   "pygments_lexer": "ipython3",
   "version": "3.9.13"
  }
 },
 "nbformat": 4,
 "nbformat_minor": 5
}
